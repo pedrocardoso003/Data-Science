{
 "cells": [
  {
   "cell_type": "markdown",
   "id": "924e4ccb4f93c6cb",
   "metadata": {},
   "source": [
    "# Part 1: Descriptive Statistics with Python\n",
    "In this section, we will explore fundamental concepts of quantitative features in rectatuar date.\n",
    "\n",
    "- Central Tendency: Mean, Median, Mode\n",
    "- Dispersion: Range, IQR, Variance, STD\n",
    "- Frequency Tables and Categorical Feature Summaries\n",
    "- Notion of A Distribution\n",
    "- Population vs Sample"
   ]
  },
  {
   "cell_type": "markdown",
   "id": "315106ea38fb0dc0",
   "metadata": {},
   "source": [
    "## 1. Setup & Quick Review\n",
    "Let's start by importing the necessary libraries and loading a dataset."
   ]
  },
  {
   "cell_type": "code",
   "id": "initial_id",
   "metadata": {
    "collapsed": true,
    "ExecuteTime": {
     "end_time": "2025-10-09T15:37:09.172092Z",
     "start_time": "2025-10-09T15:37:08.879989Z"
    }
   },
   "source": [
    "import pandas as pd\n",
    "import numpy as np\n",
    "import matplotlib.pyplot as plt\n",
    "\n",
    "# dataset: Titanic (small and real-world)\n",
    "df = pd.read_csv(\"https://raw.githubusercontent.com/zuilpirola/DS/refs/heads/main/Week2/titanic.csv\")\n",
    "\n",
    "df.head()"
   ],
   "outputs": [
    {
     "data": {
      "text/plain": [
       "   PassengerId  Survived  Pclass  \\\n",
       "0            1         0       3   \n",
       "1            2         1       1   \n",
       "2            3         1       3   \n",
       "3            4         1       1   \n",
       "4            5         0       3   \n",
       "\n",
       "                                                Name     Sex   Age  SibSp  \\\n",
       "0                            Braund, Mr. Owen Harris    male  22.0      1   \n",
       "1  Cumings, Mrs. John Bradley (Florence Briggs Th...  female  38.0      1   \n",
       "2                             Heikkinen, Miss. Laina  female  26.0      0   \n",
       "3       Futrelle, Mrs. Jacques Heath (Lily May Peel)  female  35.0      1   \n",
       "4                           Allen, Mr. William Henry    male  35.0      0   \n",
       "\n",
       "   Parch            Ticket     Fare Cabin Embarked  \n",
       "0      0         A/5 21171   7.2500   NaN        S  \n",
       "1      0          PC 17599  71.2833   C85        C  \n",
       "2      0  STON/O2. 3101282   7.9250   NaN        S  \n",
       "3      0            113803  53.1000  C123        S  \n",
       "4      0            373450   8.0500   NaN        S  "
      ],
      "text/html": [
       "<div>\n",
       "<style scoped>\n",
       "    .dataframe tbody tr th:only-of-type {\n",
       "        vertical-align: middle;\n",
       "    }\n",
       "\n",
       "    .dataframe tbody tr th {\n",
       "        vertical-align: top;\n",
       "    }\n",
       "\n",
       "    .dataframe thead th {\n",
       "        text-align: right;\n",
       "    }\n",
       "</style>\n",
       "<table border=\"1\" class=\"dataframe\">\n",
       "  <thead>\n",
       "    <tr style=\"text-align: right;\">\n",
       "      <th></th>\n",
       "      <th>PassengerId</th>\n",
       "      <th>Survived</th>\n",
       "      <th>Pclass</th>\n",
       "      <th>Name</th>\n",
       "      <th>Sex</th>\n",
       "      <th>Age</th>\n",
       "      <th>SibSp</th>\n",
       "      <th>Parch</th>\n",
       "      <th>Ticket</th>\n",
       "      <th>Fare</th>\n",
       "      <th>Cabin</th>\n",
       "      <th>Embarked</th>\n",
       "    </tr>\n",
       "  </thead>\n",
       "  <tbody>\n",
       "    <tr>\n",
       "      <th>0</th>\n",
       "      <td>1</td>\n",
       "      <td>0</td>\n",
       "      <td>3</td>\n",
       "      <td>Braund, Mr. Owen Harris</td>\n",
       "      <td>male</td>\n",
       "      <td>22.0</td>\n",
       "      <td>1</td>\n",
       "      <td>0</td>\n",
       "      <td>A/5 21171</td>\n",
       "      <td>7.2500</td>\n",
       "      <td>NaN</td>\n",
       "      <td>S</td>\n",
       "    </tr>\n",
       "    <tr>\n",
       "      <th>1</th>\n",
       "      <td>2</td>\n",
       "      <td>1</td>\n",
       "      <td>1</td>\n",
       "      <td>Cumings, Mrs. John Bradley (Florence Briggs Th...</td>\n",
       "      <td>female</td>\n",
       "      <td>38.0</td>\n",
       "      <td>1</td>\n",
       "      <td>0</td>\n",
       "      <td>PC 17599</td>\n",
       "      <td>71.2833</td>\n",
       "      <td>C85</td>\n",
       "      <td>C</td>\n",
       "    </tr>\n",
       "    <tr>\n",
       "      <th>2</th>\n",
       "      <td>3</td>\n",
       "      <td>1</td>\n",
       "      <td>3</td>\n",
       "      <td>Heikkinen, Miss. Laina</td>\n",
       "      <td>female</td>\n",
       "      <td>26.0</td>\n",
       "      <td>0</td>\n",
       "      <td>0</td>\n",
       "      <td>STON/O2. 3101282</td>\n",
       "      <td>7.9250</td>\n",
       "      <td>NaN</td>\n",
       "      <td>S</td>\n",
       "    </tr>\n",
       "    <tr>\n",
       "      <th>3</th>\n",
       "      <td>4</td>\n",
       "      <td>1</td>\n",
       "      <td>1</td>\n",
       "      <td>Futrelle, Mrs. Jacques Heath (Lily May Peel)</td>\n",
       "      <td>female</td>\n",
       "      <td>35.0</td>\n",
       "      <td>1</td>\n",
       "      <td>0</td>\n",
       "      <td>113803</td>\n",
       "      <td>53.1000</td>\n",
       "      <td>C123</td>\n",
       "      <td>S</td>\n",
       "    </tr>\n",
       "    <tr>\n",
       "      <th>4</th>\n",
       "      <td>5</td>\n",
       "      <td>0</td>\n",
       "      <td>3</td>\n",
       "      <td>Allen, Mr. William Henry</td>\n",
       "      <td>male</td>\n",
       "      <td>35.0</td>\n",
       "      <td>0</td>\n",
       "      <td>0</td>\n",
       "      <td>373450</td>\n",
       "      <td>8.0500</td>\n",
       "      <td>NaN</td>\n",
       "      <td>S</td>\n",
       "    </tr>\n",
       "  </tbody>\n",
       "</table>\n",
       "</div>"
      ]
     },
     "execution_count": 2,
     "metadata": {},
     "output_type": "execute_result"
    }
   ],
   "execution_count": 2
  },
  {
   "cell_type": "markdown",
   "id": "684f6a2a4aec768c",
   "metadata": {},
   "source": [
    "### Exercise 1\n",
    "- Explore the dataset with `info()`, ` describe()`and check:\n",
    "  1. How many lines and columns are there?\n",
    "  2. Which columns are numerical? What are categorical?"
   ]
  },
  {
   "cell_type": "code",
   "id": "8cb4d291c0a1cd8a",
   "metadata": {
    "ExecuteTime": {
     "end_time": "2025-10-09T15:37:09.281904Z",
     "start_time": "2025-10-09T15:37:09.259810Z"
    }
   },
   "source": "df.info()",
   "outputs": [
    {
     "name": "stdout",
     "output_type": "stream",
     "text": [
      "<class 'pandas.core.frame.DataFrame'>\n",
      "RangeIndex: 891 entries, 0 to 890\n",
      "Data columns (total 12 columns):\n",
      " #   Column       Non-Null Count  Dtype  \n",
      "---  ------       --------------  -----  \n",
      " 0   PassengerId  891 non-null    int64  \n",
      " 1   Survived     891 non-null    int64  \n",
      " 2   Pclass       891 non-null    int64  \n",
      " 3   Name         891 non-null    object \n",
      " 4   Sex          891 non-null    object \n",
      " 5   Age          714 non-null    float64\n",
      " 6   SibSp        891 non-null    int64  \n",
      " 7   Parch        891 non-null    int64  \n",
      " 8   Ticket       891 non-null    object \n",
      " 9   Fare         891 non-null    float64\n",
      " 10  Cabin        204 non-null    object \n",
      " 11  Embarked     889 non-null    object \n",
      "dtypes: float64(2), int64(5), object(5)\n",
      "memory usage: 83.7+ KB\n"
     ]
    }
   ],
   "execution_count": 3
  },
  {
   "metadata": {
    "ExecuteTime": {
     "end_time": "2025-10-09T15:37:09.485682Z",
     "start_time": "2025-10-09T15:37:09.464853Z"
    }
   },
   "cell_type": "code",
   "source": "df.describe()",
   "id": "6156cbdab60a723",
   "outputs": [
    {
     "data": {
      "text/plain": [
       "       PassengerId    Survived      Pclass         Age       SibSp  \\\n",
       "count   891.000000  891.000000  891.000000  714.000000  891.000000   \n",
       "mean    446.000000    0.383838    2.308642   29.699118    0.523008   \n",
       "std     257.353842    0.486592    0.836071   14.526497    1.102743   \n",
       "min       1.000000    0.000000    1.000000    0.420000    0.000000   \n",
       "25%     223.500000    0.000000    2.000000   20.125000    0.000000   \n",
       "50%     446.000000    0.000000    3.000000   28.000000    0.000000   \n",
       "75%     668.500000    1.000000    3.000000   38.000000    1.000000   \n",
       "max     891.000000    1.000000    3.000000   80.000000    8.000000   \n",
       "\n",
       "            Parch        Fare  \n",
       "count  891.000000  891.000000  \n",
       "mean     0.381594   32.204208  \n",
       "std      0.806057   49.693429  \n",
       "min      0.000000    0.000000  \n",
       "25%      0.000000    7.910400  \n",
       "50%      0.000000   14.454200  \n",
       "75%      0.000000   31.000000  \n",
       "max      6.000000  512.329200  "
      ],
      "text/html": [
       "<div>\n",
       "<style scoped>\n",
       "    .dataframe tbody tr th:only-of-type {\n",
       "        vertical-align: middle;\n",
       "    }\n",
       "\n",
       "    .dataframe tbody tr th {\n",
       "        vertical-align: top;\n",
       "    }\n",
       "\n",
       "    .dataframe thead th {\n",
       "        text-align: right;\n",
       "    }\n",
       "</style>\n",
       "<table border=\"1\" class=\"dataframe\">\n",
       "  <thead>\n",
       "    <tr style=\"text-align: right;\">\n",
       "      <th></th>\n",
       "      <th>PassengerId</th>\n",
       "      <th>Survived</th>\n",
       "      <th>Pclass</th>\n",
       "      <th>Age</th>\n",
       "      <th>SibSp</th>\n",
       "      <th>Parch</th>\n",
       "      <th>Fare</th>\n",
       "    </tr>\n",
       "  </thead>\n",
       "  <tbody>\n",
       "    <tr>\n",
       "      <th>count</th>\n",
       "      <td>891.000000</td>\n",
       "      <td>891.000000</td>\n",
       "      <td>891.000000</td>\n",
       "      <td>714.000000</td>\n",
       "      <td>891.000000</td>\n",
       "      <td>891.000000</td>\n",
       "      <td>891.000000</td>\n",
       "    </tr>\n",
       "    <tr>\n",
       "      <th>mean</th>\n",
       "      <td>446.000000</td>\n",
       "      <td>0.383838</td>\n",
       "      <td>2.308642</td>\n",
       "      <td>29.699118</td>\n",
       "      <td>0.523008</td>\n",
       "      <td>0.381594</td>\n",
       "      <td>32.204208</td>\n",
       "    </tr>\n",
       "    <tr>\n",
       "      <th>std</th>\n",
       "      <td>257.353842</td>\n",
       "      <td>0.486592</td>\n",
       "      <td>0.836071</td>\n",
       "      <td>14.526497</td>\n",
       "      <td>1.102743</td>\n",
       "      <td>0.806057</td>\n",
       "      <td>49.693429</td>\n",
       "    </tr>\n",
       "    <tr>\n",
       "      <th>min</th>\n",
       "      <td>1.000000</td>\n",
       "      <td>0.000000</td>\n",
       "      <td>1.000000</td>\n",
       "      <td>0.420000</td>\n",
       "      <td>0.000000</td>\n",
       "      <td>0.000000</td>\n",
       "      <td>0.000000</td>\n",
       "    </tr>\n",
       "    <tr>\n",
       "      <th>25%</th>\n",
       "      <td>223.500000</td>\n",
       "      <td>0.000000</td>\n",
       "      <td>2.000000</td>\n",
       "      <td>20.125000</td>\n",
       "      <td>0.000000</td>\n",
       "      <td>0.000000</td>\n",
       "      <td>7.910400</td>\n",
       "    </tr>\n",
       "    <tr>\n",
       "      <th>50%</th>\n",
       "      <td>446.000000</td>\n",
       "      <td>0.000000</td>\n",
       "      <td>3.000000</td>\n",
       "      <td>28.000000</td>\n",
       "      <td>0.000000</td>\n",
       "      <td>0.000000</td>\n",
       "      <td>14.454200</td>\n",
       "    </tr>\n",
       "    <tr>\n",
       "      <th>75%</th>\n",
       "      <td>668.500000</td>\n",
       "      <td>1.000000</td>\n",
       "      <td>3.000000</td>\n",
       "      <td>38.000000</td>\n",
       "      <td>1.000000</td>\n",
       "      <td>0.000000</td>\n",
       "      <td>31.000000</td>\n",
       "    </tr>\n",
       "    <tr>\n",
       "      <th>max</th>\n",
       "      <td>891.000000</td>\n",
       "      <td>1.000000</td>\n",
       "      <td>3.000000</td>\n",
       "      <td>80.000000</td>\n",
       "      <td>8.000000</td>\n",
       "      <td>6.000000</td>\n",
       "      <td>512.329200</td>\n",
       "    </tr>\n",
       "  </tbody>\n",
       "</table>\n",
       "</div>"
      ]
     },
     "execution_count": 4,
     "metadata": {},
     "output_type": "execute_result"
    }
   ],
   "execution_count": 4
  },
  {
   "cell_type": "markdown",
   "id": "2e8ae1733fae702b",
   "metadata": {},
   "source": [
    "## 2. Central trend\n",
    "Let's calculate average, median and mode for some numerical variables."
   ]
  },
  {
   "cell_type": "code",
   "id": "3deeaba73d4a5358",
   "metadata": {
    "ExecuteTime": {
     "end_time": "2025-10-09T15:37:09.702306Z",
     "start_time": "2025-10-09T15:37:09.684881Z"
    }
   },
   "source": [
    "print('Average Age:', df['Age'].mean())\n",
    "print('Median Age:', df['Age'].median())\n",
    "print('Mode Age:', df['Age'].mode())\n"
   ],
   "outputs": [
    {
     "name": "stdout",
     "output_type": "stream",
     "text": [
      "Average Age: 29.69911764705882\n",
      "Median Age: 28.0\n",
      "Mode Age: 0    24.0\n",
      "Name: Age, dtype: float64\n"
     ]
    }
   ],
   "execution_count": 5
  },
  {
   "cell_type": "markdown",
   "id": "36a090849e6aa282",
   "metadata": {},
   "source": [
    "### Exercise 2\n",
    "1. Calculate the average, median and mode of the variable `Fare`.\n",
    "2. Compare with the values obtained for ` Age`.\n",
    "3. Note the results and discuss: Is there a significant difference between average and median? What can justify this?"
   ]
  },
  {
   "cell_type": "code",
   "id": "ea4600356b03a314",
   "metadata": {
    "ExecuteTime": {
     "end_time": "2025-10-09T15:38:16.416867Z",
     "start_time": "2025-10-09T15:38:16.402336Z"
    }
   },
   "source": [
    "print('Average Fare:', df['Fare'].mean())\n",
    "print('Median Fare:', df['Fare'].median())\n",
    "print('Mode Fare:', df['Fare'].mode())"
   ],
   "outputs": [
    {
     "name": "stdout",
     "output_type": "stream",
     "text": [
      "Average Fare: 32.204207968574636\n",
      "Median Fare: 14.4542\n",
      "Mode Fare: 0    8.05\n",
      "Name: Fare, dtype: float64\n"
     ]
    }
   ],
   "execution_count": 11
  },
  {
   "cell_type": "markdown",
   "id": "721d6629cb8ee279",
   "metadata": {},
   "source": [
    "## 3. Dispersion measurements\n",
    "Dispersion measures how spread the data."
   ]
  },
  {
   "cell_type": "code",
   "id": "630f5cbebab22803",
   "metadata": {
    "ExecuteTime": {
     "end_time": "2025-10-09T15:39:31.204134Z",
     "start_time": "2025-10-09T15:39:31.193997Z"
    }
   },
   "source": [
    "# Example with Age\n",
    "age_range = df[\"Age\"].max() - df[\"Age\"].min()\n",
    "age_iqr = df[\"Age\"].quantile(0.75) - df[\"Age\"].quantile(0.25) # interquartile range\n",
    "age_var = df[\"Age\"].var()\n",
    "age_std = df[\"Age\"].std()\n",
    "\n",
    "age_range, age_iqr, age_var, age_std"
   ],
   "outputs": [
    {
     "data": {
      "text/plain": [
       "(79.58, 17.875, 211.01912474630802, 14.526497332334042)"
      ]
     },
     "execution_count": 12,
     "metadata": {},
     "output_type": "execute_result"
    }
   ],
   "execution_count": 12
  },
  {
   "cell_type": "markdown",
   "id": "87391eb04e577a84",
   "metadata": {},
   "source": [
    "### Exercise 3\n",
    "1. Calculate range, iQR, variance and standard deviation for `Fare`.\n",
    "2. Compare the results of ` Age`and ` Fare`.\n",
    "3. Make a histogram of each variable. Which has the greatest dispersion?"
   ]
  },
  {
   "cell_type": "code",
   "id": "f280935cc391ca53",
   "metadata": {
    "ExecuteTime": {
     "end_time": "2025-10-09T15:42:57.569356Z",
     "start_time": "2025-10-09T15:42:57.547055Z"
    }
   },
   "source": [
    "fare_range = df[\"Fare\"].max() - df[\"Fare\"].min()\n",
    "fare_iqr = df[\"Fare\"].quantile(0.75) - df[\"Fare\"].quantile(0.25) # interquartile range\n",
    "fare_var = df[\"Fare\"].var()\n",
    "fare_std = df[\"Fare\"].std()\n",
    "\n",
    "fare_range, fare_iqr, fare_var, fare_std"
   ],
   "outputs": [
    {
     "data": {
      "text/plain": [
       "(512.3292, 23.0896, 2469.436845743116, 49.6934285971809)"
      ]
     },
     "execution_count": 20,
     "metadata": {},
     "output_type": "execute_result"
    }
   ],
   "execution_count": 20
  },
  {
   "metadata": {
    "ExecuteTime": {
     "end_time": "2025-10-09T15:43:54.027105Z",
     "start_time": "2025-10-09T15:43:53.649322Z"
    }
   },
   "cell_type": "code",
   "source": [
    "df[\"Age\"].hist(bins=80)\n",
    "plt.title(\"Distribuição de Age\")\n",
    "plt.show()\n",
    "\n",
    "df[\"Fare\"].hist(bins=20)\n",
    "plt.title(\"Distribuição de Fare\")\n",
    "plt.show()"
   ],
   "id": "76010346f8dfa66f",
   "outputs": [
    {
     "data": {
      "text/plain": [
       "<Figure size 640x480 with 1 Axes>"
      ],
      "image/png": "[encoded data removed]"
     },
     "metadata": {},
     "output_type": "display_data",
     "jetTransient": {
      "display_id": null
     }
    },
    {
     "data": {
      "text/plain": [
       "<Figure size 640x480 with 1 Axes>"
      ],
      "image/png": "[encoded data removed]"
     },
     "metadata": {},
     "output_type": "display_data",
     "jetTransient": {
      "display_id": null
     }
    }
   ],
   "execution_count": 23
  },
  {
   "cell_type": "markdown",
   "id": "980b18f46e58744",
   "metadata": {},
   "source": [
    "## 4. Distributions and frequencies\n",
    "Let's explore distributions with histograms and frequencies for categorical variables."
   ]
  },
  {
   "cell_type": "code",
   "id": "5b10f9d05750c587",
   "metadata": {
    "ExecuteTime": {
     "end_time": "2025-10-09T15:44:45.766032Z",
     "start_time": "2025-10-09T15:44:45.545331Z"
    }
   },
   "source": [
    "# Age Distribution\n",
    "df[\"Age\"].hist(bins=20)\n",
    "plt.title(\"Distribuição de Age\")\n",
    "plt.show()\n",
    "\n",
    "# Sex\n",
    "df[\"Sex\"].value_counts()"
   ],
   "outputs": [
    {
     "data": {
      "text/plain": [
       "<Figure size 640x480 with 1 Axes>"
      ],
      "image/png": "[encoded data removed]"
     },
     "metadata": {},
     "output_type": "display_data",
     "jetTransient": {
      "display_id": null
     }
    },
    {
     "data": {
      "text/plain": [
       "Sex\n",
       "male      577\n",
       "female    314\n",
       "Name: count, dtype: int64"
      ]
     },
     "execution_count": 26,
     "metadata": {},
     "output_type": "execute_result"
    }
   ],
   "execution_count": 26
  },
  {
   "cell_type": "markdown",
   "id": "4195b499b86581ea",
   "metadata": {},
   "source": [
    "### Exercise 4\n",
    "1. Make a histogram of `Fare`.\n",
    "2. Create a frequency table for the variable ` Pclass`.\n",
    "3. Create a Cross Table (CROSSTAB) of ` Sex`X ` Survived`.\n",
    "4. Calculate the average ` Age` per ` Sex`.\n"
   ]
  },
  {
   "cell_type": "code",
   "id": "9ec9c62f77c1cb78",
   "metadata": {
    "ExecuteTime": {
     "end_time": "2025-10-09T15:46:57.733501Z",
     "start_time": "2025-10-09T15:46:57.575981Z"
    }
   },
   "source": [
    "df[\"Fare\"].hist(bins=20)\n",
    "plt.title(\"Distribuição de Fare\")\n",
    "plt.show()\n",
    "\n",
    "df[\"Pclass\"].value_counts()\n",
    "\n",
    "pd.crosstab(df[\"Sex\"], df[\"Survived\"])"
   ],
   "outputs": [
    {
     "data": {
      "text/plain": [
       "<Figure size 640x480 with 1 Axes>"
      ],
      "image/png": "[encoded data removed]"
     },
     "metadata": {},
     "output_type": "display_data",
     "jetTransient": {
      "display_id": null
     }
    },
    {
     "data": {
      "text/plain": [
       "Survived    0    1\n",
       "Sex               \n",
       "female     81  233\n",
       "male      468  109"
      ],
      "text/html": [
       "<div>\n",
       "<style scoped>\n",
       "    .dataframe tbody tr th:only-of-type {\n",
       "        vertical-align: middle;\n",
       "    }\n",
       "\n",
       "    .dataframe tbody tr th {\n",
       "        vertical-align: top;\n",
       "    }\n",
       "\n",
       "    .dataframe thead th {\n",
       "        text-align: right;\n",
       "    }\n",
       "</style>\n",
       "<table border=\"1\" class=\"dataframe\">\n",
       "  <thead>\n",
       "    <tr style=\"text-align: right;\">\n",
       "      <th>Survived</th>\n",
       "      <th>0</th>\n",
       "      <th>1</th>\n",
       "    </tr>\n",
       "    <tr>\n",
       "      <th>Sex</th>\n",
       "      <th></th>\n",
       "      <th></th>\n",
       "    </tr>\n",
       "  </thead>\n",
       "  <tbody>\n",
       "    <tr>\n",
       "      <th>female</th>\n",
       "      <td>81</td>\n",
       "      <td>233</td>\n",
       "    </tr>\n",
       "    <tr>\n",
       "      <th>male</th>\n",
       "      <td>468</td>\n",
       "      <td>109</td>\n",
       "    </tr>\n",
       "  </tbody>\n",
       "</table>\n",
       "</div>"
      ]
     },
     "execution_count": 28,
     "metadata": {},
     "output_type": "execute_result"
    }
   ],
   "execution_count": 28
  },
  {
   "cell_type": "markdown",
   "id": "4f12e485d8c18be",
   "metadata": {},
   "source": [
    "## 5. Population vs Sample\n",
    "Let's see how statistics can vary between population and sample."
   ]
  },
  {
   "cell_type": "code",
   "id": "dccf82c646b91d7e",
   "metadata": {
    "ExecuteTime": {
     "end_time": "2025-10-09T15:48:10.680310Z",
     "start_time": "2025-10-09T15:48:10.662283Z"
    }
   },
   "source": [
    "sample_df = df.sample(frac=0.2)\n",
    "\n",
    "print(\"Média da população (Age):\", df[\"Age\"].mean())\n",
    "print(\"Média da amostra (Age):\", sample_df[\"Age\"].mean())\n",
    "\n",
    "print(\"Mediana da população (Age):\", df[\"Age\"].median())\n",
    "print(\"Mediana da amostra (Age):\", sample_df[\"Age\"].median())"
   ],
   "outputs": [
    {
     "name": "stdout",
     "output_type": "stream",
     "text": [
      "Média da população (Age): 29.69911764705882\n",
      "Média da amostra (Age): 30.802721088435373\n",
      "Mediana da população (Age): 28.0\n",
      "Mediana da amostra (Age): 29.0\n"
     ]
    }
   ],
   "execution_count": 29
  },
  {
   "cell_type": "markdown",
   "id": "7b108eab66dc3856",
   "metadata": {},
   "source": [
    "### Exercise 5\n",
    "1. Create a sample of 30% of the data.\n",
    "2. Compare the average and the standard deviation of `Fare` between the population and this sample.\n",
    "3. Repeat the process 3 times (with `random_state` different) and note: are the results always the same?"
   ]
  },
  {
   "cell_type": "code",
   "id": "b6f99633b78fafd5",
   "metadata": {
    "ExecuteTime": {
     "end_time": "2025-10-09T15:49:28.168788Z",
     "start_time": "2025-10-09T15:49:28.160765Z"
    }
   },
   "source": [
    "sample_df = df.sample(frac=0.3)\n",
    "\n",
    "print(\"Média da população (Fare):\", df[\"Fare\"].mean())\n",
    "print(\"Média da amostra (Fare):\", sample_df[\"Fare\"].mean())\n",
    "\n",
    "print(\"Mediana da população (Fare):\", df[\"Fare\"].median())\n",
    "print(\"Mediana da amostra (Fare):\", sample_df[\"Fare\"].median())"
   ],
   "outputs": [
    {
     "name": "stdout",
     "output_type": "stream",
     "text": [
      "Média da população (Fare): 32.204207968574636\n",
      "Média da amostra (Fare): 31.504212359550564\n",
      "Mediana da população (Fare): 14.4542\n",
      "Mediana da amostra (Fare): 14.4\n"
     ]
    }
   ],
   "execution_count": 30
  },
  {
   "cell_type": "markdown",
   "id": "753e20ae44efcd1",
   "metadata": {},
   "source": [
    "## 6. Mini Reflection\n",
    "Think and discuss in pairs:\n",
    "- What really means the variable `Age` On this dataset?\n",
    "- Are there limitations or contexts that we should keep in mind when analyzing it?"
   ]
  },
  {
   "cell_type": "code",
   "id": "f1a715e05eb76c12",
   "metadata": {
    "ExecuteTime": {
     "end_time": "2025-10-09T15:37:10.155208Z",
     "start_time": "2025-10-09T15:37:10.146042Z"
    }
   },
   "source": [],
   "outputs": [],
   "execution_count": null
  },
  {
   "cell_type": "markdown",
   "id": "ece0d466da99775",
   "metadata": {},
   "source": [
    "# Part 2: Practical Challenges"
   ]
  },
  {
   "cell_type": "code",
   "id": "8169916b0a973181",
   "metadata": {
    "ExecuteTime": {
     "end_time": "2025-10-09T15:50:26.232920Z",
     "start_time": "2025-10-09T15:50:26.225941Z"
    }
   },
   "source": [
    "import seaborn as sns"
   ],
   "outputs": [],
   "execution_count": 31
  },
  {
   "cell_type": "markdown",
   "id": "dd4a76c5b13bd8dc",
   "metadata": {},
   "source": [
    "## Exercise 1\n",
    "Average, median and mode `Fare` and `Age`. Then remove the 5% higher (outliers) and recalculate. What has changed?"
   ]
  },
  {
   "cell_type": "code",
   "id": "d0dbd3bcbd1ce1bc",
   "metadata": {
    "ExecuteTime": {
     "end_time": "2025-10-09T15:37:10.202194Z",
     "start_time": "2025-10-09T15:37:10.186071Z"
    }
   },
   "source": [
    "# Average, median and mode\n",
    "for col in [\"Fare\", \"Age\"]:\n",
    "    print(f\"{col}: mean={df[col].mean():.2f}, median={df[col].median():.2f}, mode={df[col].mode()[0]}\")\n",
    "\n",
    "# Remove 5% higher values\n",
    "df_no_outliers = df[(df[\"Fare\"] <= df[\"Fare\"].quantile(0.95)) & (df[\"Age\"] <= df[\"Age\"].quantile(0.95))]\n",
    "\n",
    "for col in [\"Fare\", \"Age\"]:\n",
    "    print(f\"{col} sem outliers: mean={df_no_outliers[col].mean():.2f}, median={df_no_outliers[col].median():.2f}\")"
   ],
   "outputs": [
    {
     "name": "stdout",
     "output_type": "stream",
     "text": [
      "Fare: mean=32.20, median=14.45, mode=8.05\n",
      "Age: mean=29.70, median=28.00, mode=24.0\n",
      "Fare sem outliers: mean=24.14, median=13.93\n",
      "Age sem outliers: mean=27.90, median=28.00\n"
     ]
    }
   ],
   "execution_count": 10
  },
  {
   "cell_type": "markdown",
   "id": "e2cd882b5c63967c",
   "metadata": {},
   "source": [
    "## Exercise 2\n",
    "Compare the average `Age` between passengers who survived (`Survived=1`) and did not survive."
   ]
  },
  {
   "cell_type": "code",
   "id": "1ce78ba3fbcc1518",
   "metadata": {
    "ExecuteTime": {
     "end_time": "2025-10-09T15:37:10.233387Z",
     "start_time": "2025-10-09T15:37:10.217017Z"
    }
   },
   "source": [],
   "outputs": [],
   "execution_count": null
  },
  {
   "cell_type": "markdown",
   "id": "50bcdc8fa6ea2044",
   "metadata": {},
   "source": [
    "## Exercise 3\n",
    "Create a function that is called a numerical column and return Mean, Median, Mode."
   ]
  },
  {
   "cell_type": "code",
   "id": "e47cb4924d8a7205",
   "metadata": {
    "ExecuteTime": {
     "end_time": "2025-10-09T15:37:10.248795Z",
     "start_time": "2025-10-09T15:37:10.244248Z"
    }
   },
   "source": [],
   "outputs": [],
   "execution_count": null
  },
  {
   "cell_type": "markdown",
   "id": "5db39247b605cb46",
   "metadata": {},
   "source": [
    "## Exercise 4\n",
    "In what situation is the median better than the average on the Titanic dataset?"
   ]
  },
  {
   "cell_type": "code",
   "id": "3a65ccdf32021f89",
   "metadata": {
    "ExecuteTime": {
     "end_time": "2025-10-09T15:37:10.280593Z",
     "start_time": "2025-10-09T15:37:10.266030Z"
    }
   },
   "source": [],
   "outputs": [],
   "execution_count": null
  },
  {
   "cell_type": "markdown",
   "id": "760f217231d8b74b",
   "metadata": {},
   "source": [
    "## Exercise 5\n",
    "Calculate range, iQR, variance and standard deviation of `Age` per `Pclass`.\n"
   ]
  },
  {
   "cell_type": "code",
   "id": "9f7dd4538683b21b",
   "metadata": {
    "ExecuteTime": {
     "end_time": "2025-10-09T15:37:10.296212Z",
     "start_time": "2025-10-09T15:37:10.291687Z"
    }
   },
   "source": [],
   "outputs": [],
   "execution_count": null
  },
  {
   "cell_type": "markdown",
   "id": "57b9b885250092ca",
   "metadata": {},
   "source": [
    "## Exercise 6\n",
    "Compare dispersion (STD) of `Fare` and `Sex`.\n"
   ]
  },
  {
   "cell_type": "code",
   "id": "f0383833660dafdf",
   "metadata": {
    "ExecuteTime": {
     "end_time": "2025-10-09T15:37:10.327858Z",
     "start_time": "2025-10-09T15:37:10.315078Z"
    }
   },
   "source": [],
   "outputs": [],
   "execution_count": null
  },
  {
   "cell_type": "markdown",
   "id": "873a324268f62ab1",
   "metadata": {},
   "source": [
    "## Exercise 7\n",
    "Identify the numerical variable with the highest coefficient of variation (STD/Mean)."
   ]
  },
  {
   "cell_type": "code",
   "id": "1ee32d546792568a",
   "metadata": {
    "ExecuteTime": {
     "end_time": "2025-10-09T15:37:10.358779Z",
     "start_time": "2025-10-09T15:37:10.341240Z"
    }
   },
   "source": [],
   "outputs": [],
   "execution_count": null
  },
  {
   "cell_type": "markdown",
   "id": "9af3b450dbdae8ea",
   "metadata": {},
   "source": [
    "## Exercise 8\n",
    "Compare Boxplots of `Fare` between classes `Pclass`.\n"
   ]
  },
  {
   "cell_type": "code",
   "id": "101182dfa0618c17",
   "metadata": {
    "ExecuteTime": {
     "end_time": "2025-10-09T15:37:10.374296Z",
     "start_time": "2025-10-09T15:37:10.367814Z"
    }
   },
   "source": [],
   "outputs": [],
   "execution_count": null
  },
  {
   "cell_type": "markdown",
   "id": "f206d5de48eb489f",
   "metadata": {},
   "source": [
    "## Exercise 9\n",
    "Plot Histograms of `Age` For each gender."
   ]
  },
  {
   "cell_type": "code",
   "id": "f6c0a91f8b568c21",
   "metadata": {
    "ExecuteTime": {
     "end_time": "2025-10-09T15:37:10.390184Z",
     "start_time": "2025-10-09T15:37:10.381998Z"
    }
   },
   "source": [],
   "outputs": [],
   "execution_count": null
  },
  {
   "cell_type": "markdown",
   "id": "a8428e60ee1d1364",
   "metadata": {},
   "source": [
    "## Exercise 10\n",
    "Cross table `Survived` X `Pclass` with line standardization."
   ]
  },
  {
   "cell_type": "code",
   "id": "2a1ecd4bbc44ccbe",
   "metadata": {
    "ExecuteTime": {
     "end_time": "2025-10-09T15:37:10.406294Z",
     "start_time": "2025-10-09T15:37:10.401922Z"
    }
   },
   "source": [],
   "outputs": [],
   "execution_count": null
  },
  {
   "cell_type": "markdown",
   "id": "1769554948dd0d2b",
   "metadata": {},
   "source": [
    "## Exercise 11\n",
    "Distribution of `Embarked` percentage"
   ]
  },
  {
   "cell_type": "code",
   "id": "5e8e16d3ad5130",
   "metadata": {
    "ExecuteTime": {
     "end_time": "2025-10-09T15:37:10.437082Z",
     "start_time": "2025-10-09T15:37:10.426494Z"
    }
   },
   "source": [],
   "outputs": [],
   "execution_count": null
  },
  {
   "cell_type": "markdown",
   "id": "e2b5ffae1286e74e",
   "metadata": {},
   "source": [
    "## Exercise 12\n",
    "Average of `Fare` per `Embarked`\n"
   ]
  },
  {
   "cell_type": "code",
   "id": "df3f0cdb0f6ece54",
   "metadata": {
    "ExecuteTime": {
     "end_time": "2025-10-09T15:37:10.468364Z",
     "start_time": "2025-10-09T15:37:10.457827Z"
    }
   },
   "source": [],
   "outputs": [],
   "execution_count": null
  },
  {
   "cell_type": "markdown",
   "id": "4f8d6af21e363857",
   "metadata": {},
   "source": [
    "## Exercise 13\n",
    "Proportion of `Sex` within each `Pclass`\n"
   ]
  },
  {
   "cell_type": "code",
   "id": "544897c1088436dd",
   "metadata": {
    "ExecuteTime": {
     "end_time": "2025-10-09T15:37:10.500205Z",
     "start_time": "2025-10-09T15:37:10.492190Z"
    }
   },
   "source": [],
   "outputs": [],
   "execution_count": null
  },
  {
   "cell_type": "markdown",
   "id": "e0373a931a4831dd",
   "metadata": {},
   "source": [
    "## Exercise 14\n",
    "5 samples of 20% and average `Age` in each"
   ]
  },
  {
   "cell_type": "code",
   "id": "e96de699bb2bc766",
   "metadata": {
    "ExecuteTime": {
     "end_time": "2025-10-09T15:37:11.277345Z",
     "start_time": "2025-10-09T15:37:11.265209Z"
    }
   },
   "source": [],
   "outputs": [],
   "execution_count": null
  },
  {
   "cell_type": "markdown",
   "id": "e2bc19f6bea77946",
   "metadata": {},
   "source": [
    "## Exercise 15\n",
    "Standard deviation of `Age` for the same samples"
   ]
  },
  {
   "cell_type": "code",
   "id": "32c74d2449535098",
   "metadata": {
    "ExecuteTime": {
     "end_time": "2025-10-09T15:37:11.400856Z",
     "start_time": "2025-10-09T15:37:11.391322Z"
    }
   },
   "source": [],
   "outputs": [],
   "execution_count": null
  }
 ],
 "metadata": {
  "kernelspec": {
   "display_name": "3.13.2",
   "language": "python",
   "name": "python3"
  },
  "language_info": {
   "codemirror_mode": {
    "name": "ipython",
    "version": 3
   },
   "file_extension": ".py",
   "mimetype": "text/x-python",
   "name": "python",
   "nbconvert_exporter": "python",
   "pygments_lexer": "ipython3",
   "version": "3.13.2"
  }
 },
 "nbformat": 4,
 "nbformat_minor": 5
}
